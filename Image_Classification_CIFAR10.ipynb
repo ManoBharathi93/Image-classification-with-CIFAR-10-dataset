{
  "nbformat": 4,
  "nbformat_minor": 0,
  "metadata": {
    "colab": {
      "provenance": []
    },
    "kernelspec": {
      "name": "python3",
      "display_name": "Python 3"
    },
    "language_info": {
      "name": "python"
    }
  },
  "cells": [
    {
      "cell_type": "markdown",
      "source": [
        "# Import Libraries"
      ],
      "metadata": {
        "id": "u4JaFJljMpmd"
      }
    },
    {
      "cell_type": "code",
      "execution_count": 80,
      "metadata": {
        "id": "jObZAkQA68B8"
      },
      "outputs": [],
      "source": [
        "import torch\n",
        "import torchvision\n",
        "import torchvision.transforms as transforms\n",
        "import numpy as np\n",
        "import matplotlib.pyplot as plt\n",
        "import torch.nn as nn\n",
        "import torch.nn.functional as F\n",
        "import torch.optim as optim"
      ]
    },
    {
      "cell_type": "markdown",
      "source": [
        "# Load the data and Transfrom"
      ],
      "metadata": {
        "id": "Y1_4hP_0jKIk"
      }
    },
    {
      "cell_type": "code",
      "source": [
        "transform = transforms.Compose(\n",
        "    [transforms.ToTensor(),\n",
        "     transforms.Normalize((0.5,0.5,0.5),(0.5,0.5,0.5))]\n",
        ")\n",
        "batch_size = 4\n",
        "\n",
        "train_dataset = torchvision.datasets.CIFAR10(root='./data',train=True,transform=transform,download=True)\n",
        "train_loader = torch.utils.data.DataLoader(train_dataset,batch_size=batch_size,shuffle= True,num_workers=2)\n",
        "\n",
        "test_dataset = torchvision.datasets.CIFAR10(root='./data',train=False, transform =transform,download=True)\n",
        "test_loader = torch.utils.data.DataLoader(test_dataset,batch_size=batch_size,shuffle=True,num_workers=2)"
      ],
      "metadata": {
        "colab": {
          "base_uri": "https://localhost:8080/"
        },
        "id": "9GTpmw1xjNUU",
        "outputId": "70d3add5-62da-4091-c42b-595c60d894f0"
      },
      "execution_count": 62,
      "outputs": [
        {
          "output_type": "stream",
          "name": "stdout",
          "text": [
            "Downloading https://www.cs.toronto.edu/~kriz/cifar-10-python.tar.gz to ./data/cifar-10-python.tar.gz\n"
          ]
        },
        {
          "output_type": "stream",
          "name": "stderr",
          "text": [
            "100%|██████████| 170498071/170498071 [00:05<00:00, 29328949.68it/s]\n"
          ]
        },
        {
          "output_type": "stream",
          "name": "stdout",
          "text": [
            "Extracting ./data/cifar-10-python.tar.gz to ./data\n",
            "Files already downloaded and verified\n"
          ]
        }
      ]
    },
    {
      "cell_type": "code",
      "source": [
        "classes = ('plane', 'car', 'bird', 'cat', 'deer', 'dog', 'frog', 'horse', 'ship', 'truck')"
      ],
      "metadata": {
        "id": "glKN2pgamRFn"
      },
      "execution_count": 66,
      "outputs": []
    },
    {
      "cell_type": "code",
      "source": [
        "image,label = train_dataset[1]\n",
        "plt.imshow(image.permute(1,2,0))\n",
        "plt.title(train_dataset.classes[label])\n",
        "plt.show()"
      ],
      "metadata": {
        "colab": {
          "base_uri": "https://localhost:8080/",
          "height": 490
        },
        "id": "91CwcM5gmQQl",
        "outputId": "81863cb2-057a-48b0-d172-f69bd67d0b40"
      },
      "execution_count": 74,
      "outputs": [
        {
          "output_type": "stream",
          "name": "stderr",
          "text": [
            "WARNING:matplotlib.image:Clipping input data to the valid range for imshow with RGB data ([0..1] for floats or [0..255] for integers).\n"
          ]
        },
        {
          "output_type": "display_data",
          "data": {
            "text/plain": [
              "<Figure size 640x480 with 1 Axes>"
            ],
            "image/png": "[encoded data removed]"
          },
          "metadata": {}
        }
      ]
    },
    {
      "cell_type": "markdown",
      "source": [
        "# Convolution Network"
      ],
      "metadata": {
        "id": "EgUbu7pdi2FN"
      }
    },
    {
      "cell_type": "code",
      "source": [
        "class ConvolutionNetwork(nn.Module):\n",
        "  def __init__(self):\n",
        "    super().__init__()\n",
        "    self.conv1 = nn.Conv2d(3, 6, 5)\n",
        "    self.pool = nn.MaxPool2d(2,2)\n",
        "    self.conv2 = nn.Conv2d(6,16,5)\n",
        "    self.fc1 = nn.Linear(16*5*5,120)\n",
        "    self.fc2 = nn.Linear(120,84)\n",
        "    self.fc3 = nn.Linear(84,10)\n",
        "  def forward(self,x):\n",
        "    x = self.pool(F.relu(self.conv1(x)))\n",
        "    x = self.pool(F.relu(self.conv2(x)))\n",
        "    x = torch.flatten(x,1)\n",
        "    x = F.relu(self.fc1(x))\n",
        "    x = F.relu(self.fc2(x))\n",
        "    x = self.fc3(x)\n",
        "    return x\n",
        "model = ConvolutionNetwork()"
      ],
      "metadata": {
        "id": "9tRnXJd3itFN"
      },
      "execution_count": 85,
      "outputs": []
    },
    {
      "cell_type": "markdown",
      "source": [
        "# Define Loss function"
      ],
      "metadata": {
        "id": "2rN8I8_Etcp1"
      }
    },
    {
      "cell_type": "code",
      "source": [
        "loss_fn = nn.CrossEntropyLoss()\n",
        "optimizer = optim.SGD(model.parameters(),lr=0.001,momentum=0.9)"
      ],
      "metadata": {
        "id": "aPqbCbmjYZoT"
      },
      "execution_count": 86,
      "outputs": []
    },
    {
      "cell_type": "markdown",
      "source": [
        "# Training Neural Network"
      ],
      "metadata": {
        "id": "iJt7bkOfumOk"
      }
    },
    {
      "cell_type": "code",
      "source": [
        "for epoch in range(2):\n",
        "  current_loss = 0.0\n",
        "  for i,data in enumerate(train_loader,0):\n",
        "    inputs,labels = data\n",
        "    optimizer.zero_grad()\n",
        "    y_pred = model(inputs)\n",
        "    loss = loss_fn(y_pred,labels)\n",
        "    loss.backward()\n",
        "    optimizer.step()\n",
        "\n",
        "    current_loss += loss.item()\n",
        "\n",
        "    if i%2000 == 1999:\n",
        "          print(f'[{epoch + 1}, {i + 1:5d}] loss: {current_loss / 2000:.3f}')\n",
        "          current_loss = 0.0\n",
        "print(\"Finished Training\")\n"
      ],
      "metadata": {
        "colab": {
          "base_uri": "https://localhost:8080/"
        },
        "id": "5B16BQZleR7U",
        "outputId": "3e203304-a378-4863-a9a7-31482a5cad66"
      },
      "execution_count": 87,
      "outputs": [
        {
          "output_type": "stream",
          "name": "stdout",
          "text": [
            "[1,  2000] loss: 2.201\n",
            "[1,  4000] loss: 1.870\n",
            "[1,  6000] loss: 1.672\n",
            "[1,  8000] loss: 1.577\n",
            "[1, 10000] loss: 1.518\n",
            "[1, 12000] loss: 1.478\n",
            "[2,  2000] loss: 1.382\n",
            "[2,  4000] loss: 1.359\n",
            "[2,  6000] loss: 1.337\n",
            "[2,  8000] loss: 1.297\n",
            "[2, 10000] loss: 1.277\n",
            "[2, 12000] loss: 1.258\n",
            "Finished Training\n"
          ]
        }
      ]
    },
    {
      "cell_type": "markdown",
      "source": [
        "# Save the model"
      ],
      "metadata": {
        "id": "x2km2vHLxCGu"
      }
    },
    {
      "cell_type": "code",
      "source": [
        "PATH = './cifar_model.pth'\n",
        "torch.save(model.state_dict(),PATH)"
      ],
      "metadata": {
        "id": "JMTT5Xa2v-QR"
      },
      "execution_count": 91,
      "outputs": []
    },
    {
      "cell_type": "markdown",
      "source": [
        "# Test the network on the test data"
      ],
      "metadata": {
        "id": "_rlavEsdxF7v"
      }
    },
    {
      "cell_type": "code",
      "source": [
        "def imshow(img):\n",
        "    img = img / 2 + 0.5     # unnormalize\n",
        "    npimg = img.numpy()\n",
        "    plt.imshow(np.transpose(npimg, (1, 2, 0)))\n",
        "    plt.show()"
      ],
      "metadata": {
        "id": "umiZlDG3xnA3"
      },
      "execution_count": 92,
      "outputs": []
    },
    {
      "cell_type": "code",
      "source": [
        "dataiterator = iter(test_loader)\n",
        "images,labels = next(dataiterator)\n",
        "\n",
        "imshow(torchvision.utils.make_grid(images))\n",
        "\n",
        "print('GroundTruth: ', ' '.join(f'{classes[labels[j]]:5s}' for j in range(4)))"
      ],
      "metadata": {
        "colab": {
          "base_uri": "https://localhost:8080/",
          "height": 211
        },
        "id": "fj9Xk9SSxJJR",
        "outputId": "7c38e558-fcaa-4fb7-ea09-47e1e1efee44"
      },
      "execution_count": 89,
      "outputs": [
        {
          "output_type": "display_data",
          "data": {
            "text/plain": [
              "<Figure size 640x480 with 1 Axes>"
            ],
            "image/png": "[encoded data removed]"
          },
          "metadata": {}
        },
        {
          "output_type": "stream",
          "name": "stdout",
          "text": [
            "GroundTruth:  cat   horse bird  plane\n"
          ]
        }
      ]
    },
    {
      "cell_type": "markdown",
      "source": [
        "# Load the saved model"
      ],
      "metadata": {
        "id": "uNBRYOZbxy7A"
      }
    },
    {
      "cell_type": "code",
      "source": [
        "model_2 = ConvolutionNetwork()\n",
        "model_2.load_state_dict(torch.load(PATH))"
      ],
      "metadata": {
        "colab": {
          "base_uri": "https://localhost:8080/"
        },
        "id": "Y6fMGzy1xqPY",
        "outputId": "dabf73e3-c11c-44de-b86d-988b4c283765"
      },
      "execution_count": 93,
      "outputs": [
        {
          "output_type": "execute_result",
          "data": {
            "text/plain": [
              "<All keys matched successfully>"
            ]
          },
          "metadata": {},
          "execution_count": 93
        }
      ]
    },
    {
      "cell_type": "code",
      "source": [
        "output = model_2(images)"
      ],
      "metadata": {
        "id": "8MoBpjcYyDzX"
      },
      "execution_count": 94,
      "outputs": []
    },
    {
      "cell_type": "markdown",
      "source": [
        "# Model performance on Test Dataset"
      ],
      "metadata": {
        "id": "b11bLiUjzUcu"
      }
    },
    {
      "cell_type": "code",
      "source": [
        "correct = 0\n",
        "total = 0\n",
        "\n",
        "with torch.no_grad():\n",
        "  for data in test_loader:\n",
        "    images,labels = data\n",
        "    out = model_2(images)\n",
        "    _,predicted = torch.max(out.data,1)\n",
        "    total += labels.size(0)\n",
        "    correct += (predicted == labels).sum().item()\n",
        "\n",
        "print(f'Accuracy of the network on the 10000 test images: {100 * correct // total} %')"
      ],
      "metadata": {
        "colab": {
          "base_uri": "https://localhost:8080/"
        },
        "id": "vSv9sgivyPTU",
        "outputId": "dbe9b637-75e1-44c0-83c2-5b379ffa0730"
      },
      "execution_count": 95,
      "outputs": [
        {
          "output_type": "stream",
          "name": "stdout",
          "text": [
            "Accuracy of the network on the 10000 test images: 55 %\n"
          ]
        }
      ]
    }
  ]
}